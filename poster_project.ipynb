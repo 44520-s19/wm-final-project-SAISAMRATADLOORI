{
 "cells": [
  {
   "attachments": {},
   "cell_type": "markdown",
   "metadata": {},
   "source": [
    "# Poster Project\n",
    "# Student Name: Sai Samrat Adloori\n",
    "## Title: IMDb Movie Analysis\n"
   ]
  },
  {
   "cell_type": "markdown",
   "metadata": {},
   "source": [
    "# Question: \n",
    "Analysing Movie Based On Ratings And Reviews"
   ]
  },
  {
   "cell_type": "markdown",
   "metadata": {},
   "source": [
    "# Introduction\n",
    "I thought that it would be interesting to analyze the movies data on the IMDB website. I predicted a movie based on the user ratings and reviews.\n",
    "I performed this on Black Mirror tv show. \n"
   ]
  },
  {
   "cell_type": "markdown",
   "metadata": {},
   "source": [
    "## Data Collection \n",
    "- installed IMDb pakages.\n",
    "- Retrieving data from IMDb wensite using the IMDb package with the help of movie ID.\n",
    "- Managed the information as seasons and episodes.\n",
    "- And for particular episode in a season retrieved rating and  reviews respectively.\n",
    "- Applied sentiment analysis on rating and reviews."
   ]
  },
  {
   "cell_type": "code",
   "execution_count": 3,
   "metadata": {},
   "outputs": [],
   "source": [
    "import numpy as np\n",
    "import matplotlib.pyplot as plt\n",
    "\n",
    "import pickle\n",
    "from nltk_helpers import get_sentiments\n",
    "\n",
    "from imdb import IMDb"
   ]
  },
  {
   "cell_type": "markdown",
   "metadata": {},
   "source": [
    "## Ratings\n",
    "- By using Black Mirror Movie ID I retreived data from IMDb wesite.\n",
    "- These are the ratings of each and every episode in this movie.\n",
    "- The last one is the average rating by seasons"
   ]
  },
  {
   "cell_type": "code",
   "execution_count": 4,
   "metadata": {},
   "outputs": [
    {
     "name": "stdout",
     "output_type": "stream",
     "text": [
      "7.801234567891\n",
      "8.201234567891\n",
      "8.601234567891\n",
      "8.101234567891\n",
      "8.101234567891\n",
      "6.701234567891\n",
      "9.201234567891\n",
      "8.301234567891\n",
      "8.101234567891\n",
      "8.501234567891\n",
      "8.701234567891\n",
      "7.601234567891\n",
      "8.601234567891\n",
      "8.301234567891\n",
      "7.301234567891\n",
      "7.301234567891\n",
      "8.801234567891\n",
      "6.701234567891\n",
      "8.701234567891\n",
      "6.901234567891\n",
      "7.601234567891\n",
      "6.001234567891\n",
      "[8.201234567891, 8.026234567890999, 8.301234567891, 7.851234567890999, 6.834567901224333]\n"
     ]
    }
   ],
   "source": [
    "ia=IMDb()\n",
    "series = ia.get_movie('2085059')\n",
    "ia.update(series, 'episodes')\n",
    "sumofRating=0.0\n",
    "no_of_epsdes=0\n",
    "rating_avg=[]\n",
    "for season_nr in sorted(series['episodes']):\n",
    "    for episode_nr in sorted(series['episodes'][season_nr]):\n",
    "       episode = series['episodes'][season_nr][episode_nr]\n",
    "       if episode.get('rating'):\n",
    "           sumofRating=sumofRating+episode.get('rating')\n",
    "       print(episode.get('rating'))\n",
    "       no_of_epsdes=no_of_epsdes+1\n",
    "    rating_avg.append(sumofRating/no_of_epsdes)\n",
    "    sumofRating=0  \n",
    "    no_of_epsdes=0\n",
    "        \n",
    "print(rating_avg)"
   ]
  },
  {
   "cell_type": "markdown",
   "metadata": {},
   "source": [
    "## ratings and votes according to episodes"
   ]
  },
  {
   "cell_type": "code",
   "execution_count": 10,
   "metadata": {},
   "outputs": [
    {
     "name": "stdout",
     "output_type": "stream",
     "text": [
      "episode #1.1; rating: 7.801234567891; votes: 40165\n",
      "episode #1.2; rating: 8.201234567891; votes: 40304\n",
      "episode #1.3; rating: 8.601234567891; votes: 40504\n",
      "episode #2.1; rating: 8.101234567891; votes: 34048\n",
      "episode #2.2; rating: 8.101234567891; votes: 33934\n",
      "episode #2.3; rating: 6.701234567891; votes: 28541\n",
      "episode #2.4; rating: 9.201234567891; votes: 41936\n",
      "episode #3.1; rating: 8.301234567891; votes: 41171\n",
      "episode #3.2; rating: 8.101234567891; votes: 34536\n",
      "episode #3.3; rating: 8.501234567891; votes: 35252\n",
      "episode #3.4; rating: 8.701234567891; votes: 43679\n",
      "episode #3.5; rating: 7.601234567891; votes: 26575\n",
      "episode #3.6; rating: 8.601234567891; votes: 30122\n",
      "episode #4.1; rating: 8.301234567891; votes: 39495\n",
      "episode #4.2; rating: 7.301234567891; votes: 31012\n",
      "episode #4.3; rating: 7.301234567891; votes: 28867\n",
      "episode #4.4; rating: 8.801234567891; votes: 38526\n",
      "episode #4.5; rating: 6.701234567891; votes: 26923\n",
      "episode #4.6; rating: 8.701234567891; votes: 30040\n",
      "episode #5.1; rating: 6.901234567891; votes: 23213\n",
      "episode #5.2; rating: 7.601234567891; votes: 20638\n",
      "episode #5.3; rating: 6.001234567891; votes: 20342\n",
      "[7.801234567891, 8.201234567891, 8.601234567891]\n",
      "[8.101234567891, 8.101234567891, 6.701234567891, 9.201234567891]\n",
      "[8.301234567891, 8.101234567891, 8.501234567891, 8.701234567891, 7.601234567891, 8.601234567891]\n",
      "[8.301234567891, 7.301234567891, 7.301234567891, 8.801234567891, 6.701234567891, 8.701234567891]\n",
      "[6.901234567891, 7.601234567891, 6.001234567891]\n"
     ]
    }
   ],
   "source": [
    "rating1=[]\n",
    "rating2=[]\n",
    "rating3=[]\n",
    "rating4=[]\n",
    "rating5=[]\n",
    "\n",
    "for season_nr in sorted(series['episodes']):\n",
    "    for episode_nr in sorted(series['episodes'][season_nr]):\n",
    "        episode = series['episodes'][season_nr][episode_nr]\n",
    "        print('episode #%s.%s; rating: %s; votes: %s' %\n",
    "              (season_nr, episode_nr, episode.get('rating'), episode.get('votes')))\n",
    "        \n",
    "for season_nr in sorted(series['episodes']):\n",
    "    for episode_nr in sorted(series['episodes'][season_nr]):\n",
    "        episode = series['episodes'][season_nr][episode_nr]\n",
    "        if season_nr==1:\n",
    "            rating1.append(episode.get('rating'))\n",
    "        if season_nr==2:\n",
    "            rating2.append(episode.get('rating'))\n",
    "        if season_nr==3:\n",
    "            rating3.append(episode.get('rating'))\n",
    "        if season_nr==4:\n",
    "            rating4.append(episode.get('rating'))\n",
    "        if season_nr==5:\n",
    "            rating5.append(episode.get('rating'))\n",
    "\n",
    "print(rating1)            \n",
    "print(rating2)\n",
    "print(rating3)\n",
    "print(rating4)\n",
    "print(rating5)"
   ]
  },
  {
   "cell_type": "markdown",
   "metadata": {},
   "source": [
    "## Getting reviews according to episodes"
   ]
  },
  {
   "cell_type": "code",
   "execution_count": 12,
   "metadata": {},
   "outputs": [],
   "source": [
    "count=0\n",
    "\n",
    "Season1=['2089051','2089051','2089049','2089050']\n",
    "Season2=['2290780','2542420','2386296','3973198']\n",
    "Season3=['5497778','5709242','5709230','4538072','5709234','5709236']\n",
    "Season4=['5710974','5709250','5710976','5710978','5710984','5058700']\n",
    "Season5=['8503298','8758202','9053874']\n",
    "\n",
    "RawReview=[]\n",
    "\n",
    "counter=0\n",
    "\n",
    "for season in Season1:\n",
    "    movie=ia.get_episode(season)\n",
    "    reviews=ia.get_movie_reviews(season)\n",
    "    for review in reviews['data']['reviews']:\n",
    "         \n",
    "         RawReview.append(review['content'])\n",
    "         \n",
    "RawReview1=[]         \n",
    "for season in Season2:\n",
    "    movie=ia.get_episode(season)\n",
    "    reviews=ia.get_movie_reviews(season)\n",
    "    for review in reviews['data']['reviews']:\n",
    "         \n",
    "         RawReview1.append(review['content'])  \n",
    "         \n",
    "RawReview2=[]          \n",
    "for season in Season3:\n",
    "    movie=ia.get_episode(season)\n",
    "    reviews=ia.get_movie_reviews(season)\n",
    "    for review in reviews['data']['reviews']:\n",
    "         \n",
    "         RawReview2.append(review['content'])  \n",
    "         \n",
    "RawReview3=[]          \n",
    "for season in Season4:\n",
    "    movie=ia.get_episode(season)\n",
    "    reviews=ia.get_movie_reviews(season)\n",
    "    for review in reviews['data']['reviews']:\n",
    "        \n",
    "         RawReview3.append(review['content']) \n",
    "         \n",
    "RawReview4=[]          \n",
    "for season in Season5:\n",
    "    movie=ia.get_episode(season)\n",
    "    reviews=ia.get_movie_reviews(season)\n",
    "    for review in reviews['data']['reviews']:\n",
    "         count+=1\n",
    "         RawReview4.append(review['content']) "
   ]
  },
  {
   "cell_type": "code",
   "execution_count": 20,
   "metadata": {},
   "outputs": [],
   "source": [
    "with open('season1.pkl', 'wb') as f:\n",
    "    pickle.dump(RawReview,f)\n",
    "\n",
    "with open('season2.pkl', 'wb') as f:\n",
    "    pickle.dump(RawReview1,f)\n",
    "    \n",
    "with open('season3.pkl', 'wb') as f:\n",
    "    pickle.dump(RawReview2,f)\n",
    "    \n",
    "with open('season4.pkl', 'wb') as f:\n",
    "    pickle.dump(RawReview3,f)\n",
    "    \n",
    "with open('season5.pkl', 'wb') as f:\n",
    "    pickle.dump(RawReview4,f)\n",
    "#Reading the pickle file\n",
    "\n",
    "with open('season1.pkl','rb') as f:\n",
    "    sentis1 =pickle.load(f)\n",
    "\n",
    "with open('season2.pkl','rb') as f:\n",
    "    sentis2 =pickle.load(f)\n",
    "    \n",
    "with open('season3.pkl','rb') as f:\n",
    "    sentis3 =pickle.load(f)\n",
    "    \n",
    "with open('season4.pkl','rb') as f:\n",
    "    sentis4 =pickle.load(f)\n",
    "\n",
    "with open('season5.pkl','rb') as f:\n",
    "    sentis5 =pickle.load(f)"
   ]
  },
  {
   "cell_type": "markdown",
   "metadata": {},
   "source": [
    "## Sentiment Analysis\n",
    "- performing sentiment analysis for the user reviews\n",
    "- storing positive, negative and netural feedbacks in a list\n",
    "- calculating the mean of positive,negative and netural feedbacks for barchart\n",
    "- ploting barchart according to seasons"
   ]
  },
  {
   "cell_type": "code",
   "execution_count": 21,
   "metadata": {},
   "outputs": [
    {
     "data": {
      "image/png": "[encoded data removed]",
      "text/plain": [
       "<Figure size 432x288 with 1 Axes>"
      ]
     },
     "metadata": {
      "needs_background": "light"
     },
     "output_type": "display_data"
    }
   ],
   "source": [
    "\n",
    "fig = plt.figure()\n",
    "ax = fig.add_subplot(111)\n",
    "sentiments1 = [get_sentiments(senti1) for senti1 in sentis1]\n",
    "sentiments2 = [get_sentiments(senti2) for senti2 in sentis2]\n",
    "sentiments3 = [get_sentiments(senti3) for senti3 in sentis3]\n",
    "sentiments4 = [get_sentiments(senti4) for senti4 in sentis4]\n",
    "sentiments5 = [get_sentiments(senti5) for senti5 in sentis5]\n",
    "\n",
    "#positive\n",
    "S1 = [sent['pos'] for sent in sentiments1]\n",
    "S2 = [sent['pos'] for sent in sentiments2]\n",
    "S3 = [sent['pos'] for sent in sentiments3]\n",
    "S4 = [sent['pos'] for sent in sentiments4]\n",
    "S5 = [sent['pos'] for sent in sentiments5]\n",
    "\n",
    "#neg\n",
    "\n",
    "S1neg = [sent['neg'] for sent in sentiments1]\n",
    "S2neg = [sent['neg'] for sent in sentiments2]\n",
    "S3neg = [sent['neg'] for sent in sentiments3]\n",
    "S4neg = [sent['neg'] for sent in sentiments4]\n",
    "S5neg = [sent['neg'] for sent in sentiments5]\n",
    "\n",
    "#neu\n",
    "\n",
    "S1neu = [sent['neu'] for sent in sentiments1]\n",
    "S2neu = [sent['neu'] for sent in sentiments2]\n",
    "S3neu = [sent['neu'] for sent in sentiments3]\n",
    "S4neu = [sent['neu'] for sent in sentiments4]\n",
    "S5neu = [sent['neu'] for sent in sentiments5]"
   ]
  },
  {
   "cell_type": "markdown",
   "metadata": {},
   "source": [
    "- calculating mean of positive, negative and neutral feedbacks"
   ]
  },
  {
   "cell_type": "code",
   "execution_count": 33,
   "metadata": {},
   "outputs": [],
   "source": [
    "  \n",
    "mean_of_postives1=sum(S1)/len(S1)\n",
    "mean_of_postives2=sum(S2)/len(S2)\n",
    "mean_of_postives3=sum(S3)/len(S3)\n",
    "mean_of_postives4=sum(S4)/len(S4)\n",
    "\n",
    "mean_of_postives5=sum(S5)/len(S5)\n",
    "\n",
    "\n",
    "mean_of_negatives1=sum(S1neg)/len(S1neg)\n",
    "mean_of_negatives2=sum(S2neg)/len(S2neg)\n",
    "mean_of_negatives3=sum(S3neg)/len(S3neg)\n",
    "mean_of_negatives4=sum(S4neg)/len(S4neg)\n",
    "mean_of_negatives5=sum(S5neg)/len(S5neg)\n",
    "\n",
    "mean_of_neutral1=sum(S1neu)/len(S1neu)\n",
    "mean_of_neutral2=sum(S2neu)/len(S2neu)\n",
    "mean_of_neutral3=sum(S3neu)/len(S3neu)\n",
    "mean_of_neutral4=sum(S4neu)/len(S4neu)\n",
    "mean_of_neutral5=sum(S5neu)/len(S5neu)"
   ]
  },
  {
   "cell_type": "markdown",
   "metadata": {},
   "source": [
    "## ploting barchart"
   ]
  },
  {
   "cell_type": "code",
   "execution_count": 34,
   "metadata": {},
   "outputs": [
    {
     "data": {
      "image/png": "[encoded data removed]",
      "text/plain": [
       "<Figure size 432x288 with 1 Axes>"
      ]
     },
     "metadata": {
      "needs_background": "light"
     },
     "output_type": "display_data"
    }
   ],
   "source": [
    "n=5\n",
    "index=np.arange(n)\n",
    "barwidth=0.25\n",
    "opacity=0.5\n",
    "\n",
    "Positive=[mean_of_postives1,mean_of_postives2,mean_of_postives3,mean_of_negatives4,mean_of_negatives5]\n",
    "Negative=[mean_of_negatives1,mean_of_negatives2,mean_of_postives3,mean_of_negatives4,mean_of_negatives5]\n",
    "Neutral=[mean_of_neutral1,mean_of_neutral2,mean_of_neutral3,mean_of_neutral4,mean_of_neutral5]\n",
    "\n",
    "\n",
    "objects=('SEASON1','SEASON2','SEASON3','SEASON4','SEASON5')\n",
    "\n",
    "rects1 = plt.bar(index , Positive, barwidth,\n",
    "alpha=opacity,\n",
    "color='g',\n",
    "label='Positive')\n",
    "\n",
    "rects2 = plt.bar(index + barwidth, Negative, barwidth,\n",
    "alpha=opacity,\n",
    "color='r',\n",
    "label='Negative')\n",
    "\n",
    "rects3 = plt.bar(index + barwidth+barwidth, Neutral, barwidth,\n",
    "alpha=opacity,\n",
    "color='b',\n",
    "label='Neutral')\n",
    "\n",
    "\n",
    "plt.xticks(index, objects)\n",
    "plt.ylabel('Mean of Sentiments')\n",
    "plt.title('Sentiment analysis of Black Mirror show reviews')\n",
    "plt.show()\n"
   ]
  },
  {
   "cell_type": "markdown",
   "metadata": {},
   "source": [
    "## line graph on rating\n",
    "This graph shows average ratings according to seasons"
   ]
  },
  {
   "cell_type": "code",
   "execution_count": 32,
   "metadata": {
    "scrolled": true
   },
   "outputs": [
    {
     "name": "stdout",
     "output_type": "stream",
     "text": [
      "8.201234567891 8.026234567890999 8.301234567891 7.851234567890999 6.834567901224333\n"
     ]
    },
    {
     "data": {
      "image/png": "[encoded data removed]",
      "text/plain": [
       "<Figure size 432x288 with 1 Axes>"
      ]
     },
     "metadata": {
      "needs_background": "light"
     },
     "output_type": "display_data"
    }
   ],
   "source": [
    "mean1=sum(rating1)/len(rating1)\n",
    "mean2=sum(rating2)/len(rating2)\n",
    "mean3=sum(rating3)/len(rating3)\n",
    "mean4=sum(rating4)/len(rating4)\n",
    "mean5=sum(rating5)/len(rating5)\n",
    "data1=[mean1,mean2,mean3,mean4,mean5]\n",
    "print(mean1,mean2,mean3,mean4,mean5)\n",
    "import matplotlib.pyplot as plt\n",
    "import matplotlib.style as style\n",
    "from matplotlib import rcParams\n",
    "import numpy as np\n",
    "import pandas as pd\n",
    "\n",
    "plt.plot(objects,data1[0:5],'r.-',marker=\"P\",label='Average Rating')\n",
    "plt.xticks(rotation=20)\n",
    "plt.ylabel('Rating')\n",
    "plt.title('Black mirror movie rating according to its seasons')\n",
    "plt.legend()\n",
    "plt.ylim(0,10)\n",
    "plt.show() "
   ]
  },
  {
   "cell_type": "markdown",
   "metadata": {},
   "source": [
    "## Conclusion\n",
    "- Black Mirror is one of the famous web series. After analyzing this movie had a good start with a rating of approx(8) until season 3. And started to decrease gradually from season 3.\n",
    "\n",
    "- when we compare line graph with bar graph even though ratings went down but the comments on the movie are still neutral\n",
    "\n"
   ]
  }
 ],
 "metadata": {
  "kernelspec": {
   "display_name": "Python 3",
   "language": "python",
   "name": "python3"
  },
  "language_info": {
   "codemirror_mode": {
    "name": "ipython",
    "version": 3
   },
   "file_extension": ".py",
   "mimetype": "text/x-python",
   "name": "python",
   "nbconvert_exporter": "python",
   "pygments_lexer": "ipython3",
   "version": "3.7.3"
  }
 },
 "nbformat": 4,
 "nbformat_minor": 2
}
